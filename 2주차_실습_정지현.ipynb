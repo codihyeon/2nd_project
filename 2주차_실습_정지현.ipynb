{
 "cells": [
  {
   "cell_type": "code",
   "execution_count": 28,
   "metadata": {},
   "outputs": [],
   "source": [
    "import pandas as pd\n",
    "import numpy as np\n",
    "import random\n",
    "import os\n",
    "\n",
    "from sklearn.preprocessing import MinMaxScaler\n",
    "from sklearn.preprocessing import LabelEncoder\n",
    "\n",
    "import torch\n",
    "import torch.nn as nn\n",
    "from torch.utils.data import Dataset, DataLoader\n",
    "\n",
    "from tqdm.auto import tqdm\n",
    "import matplotlib.pyplot as plt\n",
    "\n",
    "import seaborn as sns\n",
    "import matplotlib.font_manager as fm"
   ]
  },
  {
   "cell_type": "code",
   "execution_count": 29,
   "metadata": {},
   "outputs": [],
   "source": [
    "sample = pd.read_csv(r'electricity_data\\sample_submission.csv')\n",
    "train_df = pd.read_csv(r'electricity_data\\train.csv', encoding='cp949')\n",
    "test_df = pd.read_csv(r'electricity_data\\test.csv', encoding='cp949')"
   ]
  },
  {
   "cell_type": "code",
   "execution_count": 19,
   "metadata": {},
   "outputs": [
    {
     "data": {
      "text/html": [
       "<div>\n",
       "<style scoped>\n",
       "    .dataframe tbody tr th:only-of-type {\n",
       "        vertical-align: middle;\n",
       "    }\n",
       "\n",
       "    .dataframe tbody tr th {\n",
       "        vertical-align: top;\n",
       "    }\n",
       "\n",
       "    .dataframe thead th {\n",
       "        text-align: right;\n",
       "    }\n",
       "</style>\n",
       "<table border=\"1\" class=\"dataframe\">\n",
       "  <thead>\n",
       "    <tr style=\"text-align: right;\">\n",
       "      <th></th>\n",
       "      <th>num_date_time</th>\n",
       "      <th>answer</th>\n",
       "    </tr>\n",
       "  </thead>\n",
       "  <tbody>\n",
       "    <tr>\n",
       "      <th>0</th>\n",
       "      <td>1 2020-08-25 00</td>\n",
       "      <td>0</td>\n",
       "    </tr>\n",
       "    <tr>\n",
       "      <th>1</th>\n",
       "      <td>1 2020-08-25 01</td>\n",
       "      <td>0</td>\n",
       "    </tr>\n",
       "    <tr>\n",
       "      <th>2</th>\n",
       "      <td>1 2020-08-25 02</td>\n",
       "      <td>0</td>\n",
       "    </tr>\n",
       "    <tr>\n",
       "      <th>3</th>\n",
       "      <td>1 2020-08-25 03</td>\n",
       "      <td>0</td>\n",
       "    </tr>\n",
       "    <tr>\n",
       "      <th>4</th>\n",
       "      <td>1 2020-08-25 04</td>\n",
       "      <td>0</td>\n",
       "    </tr>\n",
       "  </tbody>\n",
       "</table>\n",
       "</div>"
      ],
      "text/plain": [
       "     num_date_time  answer\n",
       "0  1 2020-08-25 00       0\n",
       "1  1 2020-08-25 01       0\n",
       "2  1 2020-08-25 02       0\n",
       "3  1 2020-08-25 03       0\n",
       "4  1 2020-08-25 04       0"
      ]
     },
     "execution_count": 19,
     "metadata": {},
     "output_type": "execute_result"
    }
   ],
   "source": [
    "sample.head()"
   ]
  },
  {
   "cell_type": "code",
   "execution_count": 20,
   "metadata": {},
   "outputs": [
    {
     "data": {
      "text/html": [
       "<div>\n",
       "<style scoped>\n",
       "    .dataframe tbody tr th:only-of-type {\n",
       "        vertical-align: middle;\n",
       "    }\n",
       "\n",
       "    .dataframe tbody tr th {\n",
       "        vertical-align: top;\n",
       "    }\n",
       "\n",
       "    .dataframe thead th {\n",
       "        text-align: right;\n",
       "    }\n",
       "</style>\n",
       "<table border=\"1\" class=\"dataframe\">\n",
       "  <thead>\n",
       "    <tr style=\"text-align: right;\">\n",
       "      <th></th>\n",
       "      <th>num</th>\n",
       "      <th>date_time</th>\n",
       "      <th>전력사용량(kWh)</th>\n",
       "      <th>기온(°C)</th>\n",
       "      <th>풍속(m/s)</th>\n",
       "      <th>습도(%)</th>\n",
       "      <th>강수량(mm)</th>\n",
       "      <th>일조(hr)</th>\n",
       "      <th>비전기냉방설비운영</th>\n",
       "      <th>태양광보유</th>\n",
       "    </tr>\n",
       "  </thead>\n",
       "  <tbody>\n",
       "    <tr>\n",
       "      <th>0</th>\n",
       "      <td>1</td>\n",
       "      <td>2020-06-01 00</td>\n",
       "      <td>8179.056</td>\n",
       "      <td>17.6</td>\n",
       "      <td>2.5</td>\n",
       "      <td>92.0</td>\n",
       "      <td>0.8</td>\n",
       "      <td>0.0</td>\n",
       "      <td>0.0</td>\n",
       "      <td>0.0</td>\n",
       "    </tr>\n",
       "    <tr>\n",
       "      <th>1</th>\n",
       "      <td>1</td>\n",
       "      <td>2020-06-01 01</td>\n",
       "      <td>8135.640</td>\n",
       "      <td>17.7</td>\n",
       "      <td>2.9</td>\n",
       "      <td>91.0</td>\n",
       "      <td>0.3</td>\n",
       "      <td>0.0</td>\n",
       "      <td>0.0</td>\n",
       "      <td>0.0</td>\n",
       "    </tr>\n",
       "    <tr>\n",
       "      <th>2</th>\n",
       "      <td>1</td>\n",
       "      <td>2020-06-01 02</td>\n",
       "      <td>8107.128</td>\n",
       "      <td>17.5</td>\n",
       "      <td>3.2</td>\n",
       "      <td>91.0</td>\n",
       "      <td>0.0</td>\n",
       "      <td>0.0</td>\n",
       "      <td>0.0</td>\n",
       "      <td>0.0</td>\n",
       "    </tr>\n",
       "    <tr>\n",
       "      <th>3</th>\n",
       "      <td>1</td>\n",
       "      <td>2020-06-01 03</td>\n",
       "      <td>8048.808</td>\n",
       "      <td>17.1</td>\n",
       "      <td>3.2</td>\n",
       "      <td>91.0</td>\n",
       "      <td>0.0</td>\n",
       "      <td>0.0</td>\n",
       "      <td>0.0</td>\n",
       "      <td>0.0</td>\n",
       "    </tr>\n",
       "    <tr>\n",
       "      <th>4</th>\n",
       "      <td>1</td>\n",
       "      <td>2020-06-01 04</td>\n",
       "      <td>8043.624</td>\n",
       "      <td>17.0</td>\n",
       "      <td>3.3</td>\n",
       "      <td>92.0</td>\n",
       "      <td>0.0</td>\n",
       "      <td>0.0</td>\n",
       "      <td>0.0</td>\n",
       "      <td>0.0</td>\n",
       "    </tr>\n",
       "  </tbody>\n",
       "</table>\n",
       "</div>"
      ],
      "text/plain": [
       "   num      date_time  전력사용량(kWh)  기온(°C)  풍속(m/s)  습도(%)  강수량(mm)  일조(hr)  \\\n",
       "0    1  2020-06-01 00    8179.056    17.6      2.5   92.0      0.8     0.0   \n",
       "1    1  2020-06-01 01    8135.640    17.7      2.9   91.0      0.3     0.0   \n",
       "2    1  2020-06-01 02    8107.128    17.5      3.2   91.0      0.0     0.0   \n",
       "3    1  2020-06-01 03    8048.808    17.1      3.2   91.0      0.0     0.0   \n",
       "4    1  2020-06-01 04    8043.624    17.0      3.3   92.0      0.0     0.0   \n",
       "\n",
       "   비전기냉방설비운영  태양광보유  \n",
       "0        0.0    0.0  \n",
       "1        0.0    0.0  \n",
       "2        0.0    0.0  \n",
       "3        0.0    0.0  \n",
       "4        0.0    0.0  "
      ]
     },
     "execution_count": 20,
     "metadata": {},
     "output_type": "execute_result"
    }
   ],
   "source": [
    "train_df.head()"
   ]
  },
  {
   "cell_type": "code",
   "execution_count": 21,
   "metadata": {},
   "outputs": [
    {
     "data": {
      "text/html": [
       "<div>\n",
       "<style scoped>\n",
       "    .dataframe tbody tr th:only-of-type {\n",
       "        vertical-align: middle;\n",
       "    }\n",
       "\n",
       "    .dataframe tbody tr th {\n",
       "        vertical-align: top;\n",
       "    }\n",
       "\n",
       "    .dataframe thead th {\n",
       "        text-align: right;\n",
       "    }\n",
       "</style>\n",
       "<table border=\"1\" class=\"dataframe\">\n",
       "  <thead>\n",
       "    <tr style=\"text-align: right;\">\n",
       "      <th></th>\n",
       "      <th>num</th>\n",
       "      <th>date_time</th>\n",
       "      <th>기온(°C)</th>\n",
       "      <th>풍속(m/s)</th>\n",
       "      <th>습도(%)</th>\n",
       "      <th>강수량(mm, 6시간)</th>\n",
       "      <th>일조(hr, 3시간)</th>\n",
       "      <th>비전기냉방설비운영</th>\n",
       "      <th>태양광보유</th>\n",
       "    </tr>\n",
       "  </thead>\n",
       "  <tbody>\n",
       "    <tr>\n",
       "      <th>0</th>\n",
       "      <td>1</td>\n",
       "      <td>2020-08-25 00</td>\n",
       "      <td>27.8</td>\n",
       "      <td>1.5</td>\n",
       "      <td>74.0</td>\n",
       "      <td>0.0</td>\n",
       "      <td>0.0</td>\n",
       "      <td>NaN</td>\n",
       "      <td>NaN</td>\n",
       "    </tr>\n",
       "    <tr>\n",
       "      <th>1</th>\n",
       "      <td>1</td>\n",
       "      <td>2020-08-25 01</td>\n",
       "      <td>NaN</td>\n",
       "      <td>NaN</td>\n",
       "      <td>NaN</td>\n",
       "      <td>NaN</td>\n",
       "      <td>NaN</td>\n",
       "      <td>NaN</td>\n",
       "      <td>NaN</td>\n",
       "    </tr>\n",
       "    <tr>\n",
       "      <th>2</th>\n",
       "      <td>1</td>\n",
       "      <td>2020-08-25 02</td>\n",
       "      <td>NaN</td>\n",
       "      <td>NaN</td>\n",
       "      <td>NaN</td>\n",
       "      <td>NaN</td>\n",
       "      <td>NaN</td>\n",
       "      <td>NaN</td>\n",
       "      <td>NaN</td>\n",
       "    </tr>\n",
       "    <tr>\n",
       "      <th>3</th>\n",
       "      <td>1</td>\n",
       "      <td>2020-08-25 03</td>\n",
       "      <td>27.3</td>\n",
       "      <td>1.1</td>\n",
       "      <td>78.0</td>\n",
       "      <td>NaN</td>\n",
       "      <td>0.0</td>\n",
       "      <td>NaN</td>\n",
       "      <td>NaN</td>\n",
       "    </tr>\n",
       "    <tr>\n",
       "      <th>4</th>\n",
       "      <td>1</td>\n",
       "      <td>2020-08-25 04</td>\n",
       "      <td>NaN</td>\n",
       "      <td>NaN</td>\n",
       "      <td>NaN</td>\n",
       "      <td>NaN</td>\n",
       "      <td>NaN</td>\n",
       "      <td>NaN</td>\n",
       "      <td>NaN</td>\n",
       "    </tr>\n",
       "  </tbody>\n",
       "</table>\n",
       "</div>"
      ],
      "text/plain": [
       "   num      date_time  기온(°C)  풍속(m/s)  습도(%)  강수량(mm, 6시간)  일조(hr, 3시간)  \\\n",
       "0    1  2020-08-25 00    27.8      1.5   74.0           0.0          0.0   \n",
       "1    1  2020-08-25 01     NaN      NaN    NaN           NaN          NaN   \n",
       "2    1  2020-08-25 02     NaN      NaN    NaN           NaN          NaN   \n",
       "3    1  2020-08-25 03    27.3      1.1   78.0           NaN          0.0   \n",
       "4    1  2020-08-25 04     NaN      NaN    NaN           NaN          NaN   \n",
       "\n",
       "   비전기냉방설비운영  태양광보유  \n",
       "0        NaN    NaN  \n",
       "1        NaN    NaN  \n",
       "2        NaN    NaN  \n",
       "3        NaN    NaN  \n",
       "4        NaN    NaN  "
      ]
     },
     "execution_count": 21,
     "metadata": {},
     "output_type": "execute_result"
    }
   ],
   "source": [
    "test_df.head()\n",
    "# 3시간마다 한번씩 계측하였음."
   ]
  },
  {
   "cell_type": "markdown",
   "metadata": {},
   "source": [
    "# 데이터 split"
   ]
  },
  {
   "cell_type": "code",
   "execution_count": 22,
   "metadata": {},
   "outputs": [],
   "source": [
    "# '비전기냉방설비운영'이 0이고 '태양광보유'가 0인 데이터만 선택\n",
    "train_00 = train_df[(train_df['비전기냉방설비운영'] == 0) & (train_df['태양광보유'] == 0)]\n",
    "\n",
    "# '비전기냉방설비운영'이 0이고 '태양광보유'가 1인 데이터만 선택\n",
    "train_01 = train_df[(train_df['비전기냉방설비운영'] == 0) & (train_df['태양광보유'] == 1)]\n",
    "\n",
    "# '비전기냉방설비운영'이 1이고 '태양광보유'가 0인 데이터만 선택\n",
    "train_10 = train_df[(train_df['비전기냉방설비운영'] == 1) & (train_df['태양광보유'] == 0)]\n",
    "\n",
    "# '비전기냉방설비운영'이 1이고 '태양광보유'가 1인 데이터만 선택\n",
    "train_11 = train_df[(train_df['비전기냉방설비운영'] == 1) & (train_df['태양광보유'] == 1)]\n"
   ]
  },
  {
   "cell_type": "code",
   "execution_count": 23,
   "metadata": {},
   "outputs": [
    {
     "data": {
      "text/plain": [
       "비전기냉방설비운영  태양광보유\n",
       "0.0        0.0      2077.030506\n",
       "           1.0      1582.298192\n",
       "1.0        0.0      2101.993590\n",
       "           1.0      2949.726621\n",
       "Name: 전력사용량(kWh), dtype: float64"
      ]
     },
     "execution_count": 23,
     "metadata": {},
     "output_type": "execute_result"
    }
   ],
   "source": [
    "train_df.groupby(['비전기냉방설비운영','태양광보유'])['전력사용량(kWh)'].mean()"
   ]
  },
  {
   "cell_type": "markdown",
   "metadata": {},
   "source": [
    "## 냉방시설도, 태양광도 없는 데이터"
   ]
  },
  {
   "cell_type": "code",
   "execution_count": 26,
   "metadata": {},
   "outputs": [
    {
     "data": {
      "text/plain": [
       "<Axes: xlabel='전력사용량(kWh)', ylabel='Count'>"
      ]
     },
     "execution_count": 26,
     "metadata": {},
     "output_type": "execute_result"
    },
    {
     "name": "stderr",
     "output_type": "stream",
     "text": [
      "c:\\Users\\USER\\projects\\2nd_project\\venv\\lib\\site-packages\\IPython\\core\\events.py:82: UserWarning: Glyph 51204 (\\N{HANGUL SYLLABLE JEON}) missing from current font.\n",
      "  func(*args, **kwargs)\n",
      "c:\\Users\\USER\\projects\\2nd_project\\venv\\lib\\site-packages\\IPython\\core\\events.py:82: UserWarning: Glyph 47141 (\\N{HANGUL SYLLABLE RYEOG}) missing from current font.\n",
      "  func(*args, **kwargs)\n",
      "c:\\Users\\USER\\projects\\2nd_project\\venv\\lib\\site-packages\\IPython\\core\\events.py:82: UserWarning: Glyph 49324 (\\N{HANGUL SYLLABLE SA}) missing from current font.\n",
      "  func(*args, **kwargs)\n",
      "c:\\Users\\USER\\projects\\2nd_project\\venv\\lib\\site-packages\\IPython\\core\\events.py:82: UserWarning: Glyph 50857 (\\N{HANGUL SYLLABLE YONG}) missing from current font.\n",
      "  func(*args, **kwargs)\n",
      "c:\\Users\\USER\\projects\\2nd_project\\venv\\lib\\site-packages\\IPython\\core\\events.py:82: UserWarning: Glyph 47049 (\\N{HANGUL SYLLABLE RYANG}) missing from current font.\n",
      "  func(*args, **kwargs)\n",
      "c:\\Users\\USER\\projects\\2nd_project\\venv\\lib\\site-packages\\IPython\\core\\pylabtools.py:152: UserWarning: Glyph 51204 (\\N{HANGUL SYLLABLE JEON}) missing from current font.\n",
      "  fig.canvas.print_figure(bytes_io, **kw)\n",
      "c:\\Users\\USER\\projects\\2nd_project\\venv\\lib\\site-packages\\IPython\\core\\pylabtools.py:152: UserWarning: Glyph 47141 (\\N{HANGUL SYLLABLE RYEOG}) missing from current font.\n",
      "  fig.canvas.print_figure(bytes_io, **kw)\n",
      "c:\\Users\\USER\\projects\\2nd_project\\venv\\lib\\site-packages\\IPython\\core\\pylabtools.py:152: UserWarning: Glyph 49324 (\\N{HANGUL SYLLABLE SA}) missing from current font.\n",
      "  fig.canvas.print_figure(bytes_io, **kw)\n",
      "c:\\Users\\USER\\projects\\2nd_project\\venv\\lib\\site-packages\\IPython\\core\\pylabtools.py:152: UserWarning: Glyph 50857 (\\N{HANGUL SYLLABLE YONG}) missing from current font.\n",
      "  fig.canvas.print_figure(bytes_io, **kw)\n",
      "c:\\Users\\USER\\projects\\2nd_project\\venv\\lib\\site-packages\\IPython\\core\\pylabtools.py:152: UserWarning: Glyph 47049 (\\N{HANGUL SYLLABLE RYANG}) missing from current font.\n",
      "  fig.canvas.print_figure(bytes_io, **kw)\n"
     ]
    },
    {
     "data": {
      "image/png": "[encoded data removed]",
      "text/plain": [
       "<Figure size 640x480 with 1 Axes>"
      ]
     },
     "metadata": {},
     "output_type": "display_data"
    }
   ],
   "source": [
    "# 히스토그램\n",
    "sns.histplot(train_00.groupby('num')['전력사용량(kWh)'].mean())"
   ]
  },
  {
   "cell_type": "markdown",
   "metadata": {},
   "source": [
    "## 냉방시설은 없는데 태양광은 있는 데이터"
   ]
  },
  {
   "cell_type": "code",
   "execution_count": 30,
   "metadata": {},
   "outputs": [
    {
     "data": {
      "text/plain": [
       "<Axes: xlabel='전력사용량(kWh)', ylabel='Count'>"
      ]
     },
     "execution_count": 30,
     "metadata": {},
     "output_type": "execute_result"
    },
    {
     "name": "stderr",
     "output_type": "stream",
     "text": [
      "c:\\Users\\USER\\projects\\2nd_project\\venv\\lib\\site-packages\\IPython\\core\\events.py:82: UserWarning: Glyph 51204 (\\N{HANGUL SYLLABLE JEON}) missing from current font.\n",
      "  func(*args, **kwargs)\n",
      "c:\\Users\\USER\\projects\\2nd_project\\venv\\lib\\site-packages\\IPython\\core\\events.py:82: UserWarning: Glyph 47141 (\\N{HANGUL SYLLABLE RYEOG}) missing from current font.\n",
      "  func(*args, **kwargs)\n",
      "c:\\Users\\USER\\projects\\2nd_project\\venv\\lib\\site-packages\\IPython\\core\\events.py:82: UserWarning: Glyph 49324 (\\N{HANGUL SYLLABLE SA}) missing from current font.\n",
      "  func(*args, **kwargs)\n",
      "c:\\Users\\USER\\projects\\2nd_project\\venv\\lib\\site-packages\\IPython\\core\\events.py:82: UserWarning: Glyph 50857 (\\N{HANGUL SYLLABLE YONG}) missing from current font.\n",
      "  func(*args, **kwargs)\n",
      "c:\\Users\\USER\\projects\\2nd_project\\venv\\lib\\site-packages\\IPython\\core\\events.py:82: UserWarning: Glyph 47049 (\\N{HANGUL SYLLABLE RYANG}) missing from current font.\n",
      "  func(*args, **kwargs)\n",
      "c:\\Users\\USER\\projects\\2nd_project\\venv\\lib\\site-packages\\IPython\\core\\pylabtools.py:152: UserWarning: Glyph 51204 (\\N{HANGUL SYLLABLE JEON}) missing from current font.\n",
      "  fig.canvas.print_figure(bytes_io, **kw)\n",
      "c:\\Users\\USER\\projects\\2nd_project\\venv\\lib\\site-packages\\IPython\\core\\pylabtools.py:152: UserWarning: Glyph 47141 (\\N{HANGUL SYLLABLE RYEOG}) missing from current font.\n",
      "  fig.canvas.print_figure(bytes_io, **kw)\n",
      "c:\\Users\\USER\\projects\\2nd_project\\venv\\lib\\site-packages\\IPython\\core\\pylabtools.py:152: UserWarning: Glyph 49324 (\\N{HANGUL SYLLABLE SA}) missing from current font.\n",
      "  fig.canvas.print_figure(bytes_io, **kw)\n",
      "c:\\Users\\USER\\projects\\2nd_project\\venv\\lib\\site-packages\\IPython\\core\\pylabtools.py:152: UserWarning: Glyph 50857 (\\N{HANGUL SYLLABLE YONG}) missing from current font.\n",
      "  fig.canvas.print_figure(bytes_io, **kw)\n",
      "c:\\Users\\USER\\projects\\2nd_project\\venv\\lib\\site-packages\\IPython\\core\\pylabtools.py:152: UserWarning: Glyph 47049 (\\N{HANGUL SYLLABLE RYANG}) missing from current font.\n",
      "  fig.canvas.print_figure(bytes_io, **kw)\n"
     ]
    },
    {
     "data": {
      "image/png": "[encoded data removed]",
      "text/plain": [
       "<Figure size 640x480 with 1 Axes>"
      ]
     },
     "metadata": {},
     "output_type": "display_data"
    }
   ],
   "source": [
    "# 히스토그램\n",
    "sns.histplot(train_01.groupby('num')['전력사용량(kWh)'].mean())"
   ]
  },
  {
   "cell_type": "markdown",
   "metadata": {},
   "source": [
    "## 냉방시설은 있는데 태양광은 없는 데이터"
   ]
  },
  {
   "cell_type": "code",
   "execution_count": 31,
   "metadata": {},
   "outputs": [
    {
     "data": {
      "text/plain": [
       "<Axes: xlabel='전력사용량(kWh)', ylabel='Count'>"
      ]
     },
     "execution_count": 31,
     "metadata": {},
     "output_type": "execute_result"
    },
    {
     "name": "stderr",
     "output_type": "stream",
     "text": [
      "c:\\Users\\USER\\projects\\2nd_project\\venv\\lib\\site-packages\\IPython\\core\\events.py:82: UserWarning: Glyph 51204 (\\N{HANGUL SYLLABLE JEON}) missing from current font.\n",
      "  func(*args, **kwargs)\n",
      "c:\\Users\\USER\\projects\\2nd_project\\venv\\lib\\site-packages\\IPython\\core\\events.py:82: UserWarning: Glyph 47141 (\\N{HANGUL SYLLABLE RYEOG}) missing from current font.\n",
      "  func(*args, **kwargs)\n",
      "c:\\Users\\USER\\projects\\2nd_project\\venv\\lib\\site-packages\\IPython\\core\\events.py:82: UserWarning: Glyph 49324 (\\N{HANGUL SYLLABLE SA}) missing from current font.\n",
      "  func(*args, **kwargs)\n",
      "c:\\Users\\USER\\projects\\2nd_project\\venv\\lib\\site-packages\\IPython\\core\\events.py:82: UserWarning: Glyph 50857 (\\N{HANGUL SYLLABLE YONG}) missing from current font.\n",
      "  func(*args, **kwargs)\n",
      "c:\\Users\\USER\\projects\\2nd_project\\venv\\lib\\site-packages\\IPython\\core\\events.py:82: UserWarning: Glyph 47049 (\\N{HANGUL SYLLABLE RYANG}) missing from current font.\n",
      "  func(*args, **kwargs)\n",
      "c:\\Users\\USER\\projects\\2nd_project\\venv\\lib\\site-packages\\IPython\\core\\pylabtools.py:152: UserWarning: Glyph 51204 (\\N{HANGUL SYLLABLE JEON}) missing from current font.\n",
      "  fig.canvas.print_figure(bytes_io, **kw)\n",
      "c:\\Users\\USER\\projects\\2nd_project\\venv\\lib\\site-packages\\IPython\\core\\pylabtools.py:152: UserWarning: Glyph 47141 (\\N{HANGUL SYLLABLE RYEOG}) missing from current font.\n",
      "  fig.canvas.print_figure(bytes_io, **kw)\n",
      "c:\\Users\\USER\\projects\\2nd_project\\venv\\lib\\site-packages\\IPython\\core\\pylabtools.py:152: UserWarning: Glyph 49324 (\\N{HANGUL SYLLABLE SA}) missing from current font.\n",
      "  fig.canvas.print_figure(bytes_io, **kw)\n",
      "c:\\Users\\USER\\projects\\2nd_project\\venv\\lib\\site-packages\\IPython\\core\\pylabtools.py:152: UserWarning: Glyph 50857 (\\N{HANGUL SYLLABLE YONG}) missing from current font.\n",
      "  fig.canvas.print_figure(bytes_io, **kw)\n",
      "c:\\Users\\USER\\projects\\2nd_project\\venv\\lib\\site-packages\\IPython\\core\\pylabtools.py:152: UserWarning: Glyph 47049 (\\N{HANGUL SYLLABLE RYANG}) missing from current font.\n",
      "  fig.canvas.print_figure(bytes_io, **kw)\n"
     ]
    },
    {
     "data": {
      "image/png": "[encoded data removed]",
      "text/plain": [
       "<Figure size 640x480 with 1 Axes>"
      ]
     },
     "metadata": {},
     "output_type": "display_data"
    }
   ],
   "source": [
    "# 히스토그램\n",
    "sns.histplot(train_10.groupby('num')['전력사용량(kWh)'].mean())"
   ]
  },
  {
   "cell_type": "markdown",
   "metadata": {},
   "source": [
    "## 냉방시설도 없고 태양광도 없는 데이터"
   ]
  },
  {
   "cell_type": "code",
   "execution_count": 32,
   "metadata": {},
   "outputs": [
    {
     "data": {
      "text/plain": [
       "<Axes: xlabel='전력사용량(kWh)', ylabel='Count'>"
      ]
     },
     "execution_count": 32,
     "metadata": {},
     "output_type": "execute_result"
    },
    {
     "name": "stderr",
     "output_type": "stream",
     "text": [
      "c:\\Users\\USER\\projects\\2nd_project\\venv\\lib\\site-packages\\IPython\\core\\events.py:82: UserWarning: Glyph 51204 (\\N{HANGUL SYLLABLE JEON}) missing from current font.\n",
      "  func(*args, **kwargs)\n",
      "c:\\Users\\USER\\projects\\2nd_project\\venv\\lib\\site-packages\\IPython\\core\\events.py:82: UserWarning: Glyph 47141 (\\N{HANGUL SYLLABLE RYEOG}) missing from current font.\n",
      "  func(*args, **kwargs)\n",
      "c:\\Users\\USER\\projects\\2nd_project\\venv\\lib\\site-packages\\IPython\\core\\events.py:82: UserWarning: Glyph 49324 (\\N{HANGUL SYLLABLE SA}) missing from current font.\n",
      "  func(*args, **kwargs)\n",
      "c:\\Users\\USER\\projects\\2nd_project\\venv\\lib\\site-packages\\IPython\\core\\events.py:82: UserWarning: Glyph 50857 (\\N{HANGUL SYLLABLE YONG}) missing from current font.\n",
      "  func(*args, **kwargs)\n",
      "c:\\Users\\USER\\projects\\2nd_project\\venv\\lib\\site-packages\\IPython\\core\\events.py:82: UserWarning: Glyph 47049 (\\N{HANGUL SYLLABLE RYANG}) missing from current font.\n",
      "  func(*args, **kwargs)\n",
      "c:\\Users\\USER\\projects\\2nd_project\\venv\\lib\\site-packages\\IPython\\core\\pylabtools.py:152: UserWarning: Glyph 51204 (\\N{HANGUL SYLLABLE JEON}) missing from current font.\n",
      "  fig.canvas.print_figure(bytes_io, **kw)\n",
      "c:\\Users\\USER\\projects\\2nd_project\\venv\\lib\\site-packages\\IPython\\core\\pylabtools.py:152: UserWarning: Glyph 47141 (\\N{HANGUL SYLLABLE RYEOG}) missing from current font.\n",
      "  fig.canvas.print_figure(bytes_io, **kw)\n",
      "c:\\Users\\USER\\projects\\2nd_project\\venv\\lib\\site-packages\\IPython\\core\\pylabtools.py:152: UserWarning: Glyph 49324 (\\N{HANGUL SYLLABLE SA}) missing from current font.\n",
      "  fig.canvas.print_figure(bytes_io, **kw)\n",
      "c:\\Users\\USER\\projects\\2nd_project\\venv\\lib\\site-packages\\IPython\\core\\pylabtools.py:152: UserWarning: Glyph 50857 (\\N{HANGUL SYLLABLE YONG}) missing from current font.\n",
      "  fig.canvas.print_figure(bytes_io, **kw)\n",
      "c:\\Users\\USER\\projects\\2nd_project\\venv\\lib\\site-packages\\IPython\\core\\pylabtools.py:152: UserWarning: Glyph 47049 (\\N{HANGUL SYLLABLE RYANG}) missing from current font.\n",
      "  fig.canvas.print_figure(bytes_io, **kw)\n"
     ]
    },
    {
     "data": {
      "image/png": "[encoded data removed]",
      "text/plain": [
       "<Figure size 640x480 with 1 Axes>"
      ]
     },
     "metadata": {},
     "output_type": "display_data"
    }
   ],
   "source": [
    "# 히스토그램\n",
    "sns.histplot(train_11.groupby('num')['전력사용량(kWh)'].mean())"
   ]
  }
 ],
 "metadata": {
  "kernelspec": {
   "display_name": "venv",
   "language": "python",
   "name": "python3"
  },
  "language_info": {
   "codemirror_mode": {
    "name": "ipython",
    "version": 3
   },
   "file_extension": ".py",
   "mimetype": "text/x-python",
   "name": "python",
   "nbconvert_exporter": "python",
   "pygments_lexer": "ipython3",
   "version": "3.9.6"
  }
 },
 "nbformat": 4,
 "nbformat_minor": 2
}
